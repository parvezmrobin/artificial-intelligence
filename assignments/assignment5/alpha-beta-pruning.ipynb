{
 "cells": [
  {
   "cell_type": "code",
   "execution_count": 21,
   "metadata": {},
   "outputs": [],
   "source": [
    "import graphviz as gv"
   ]
  },
  {
   "cell_type": "code",
   "execution_count": 6,
   "metadata": {},
   "outputs": [],
   "source": [
    "from random import randint"
   ]
  },
  {
   "cell_type": "code",
   "execution_count": 13,
   "metadata": {},
   "outputs": [],
   "source": [
    "d, m = 3, 3\n",
    "\n",
    "\n",
    "def add_leaf(depth):\n",
    "    if depth is 1:\n",
    "        return [randint(0, 1000) for i in range(m)]\n",
    "    else:\n",
    "        return [add_leaf(depth - 1) for i in range(m)]\n",
    "\n",
    "\n",
    "leaves = add_leaf(d)\n"
   ]
  },
  {
   "cell_type": "code",
   "execution_count": 40,
   "metadata": {},
   "outputs": [],
   "source": [
    "def add_node(g, par_lbl, chil_lbl, children):\n",
    "    if isinstance(children, list):\n",
    "        g.node(chil_lbl)\n",
    "    elif children is None:\n",
    "        g.node(\"Pruned\")\n",
    "        g.edge(par_lbl, \"Pruned\")\n",
    "    else:\n",
    "        g.node(chil_lbl, str(children))\n",
    "    g.edge(par_lbl, chil_lbl)\n",
    "    if isinstance(children, list):\n",
    "        for i, child in enumerate(children):\n",
    "            lbl = chil_lbl + str(i + 1)\n",
    "            add_node(g, chil_lbl, lbl, child)\n",
    "            \n",
    "\n",
    "def show_tree(tree):\n",
    "    g = gv.Graph('Root', format='png')\n",
    "    g.node('node1')\n",
    "    \n",
    "    for i, value in enumerate(tree):\n",
    "        add_node(g, 'node1', 'node1' + str(i + 1), value)\n",
    "    g.view()"
   ]
  },
  {
   "cell_type": "code",
   "execution_count": 35,
   "metadata": {},
   "outputs": [],
   "source": [
    "tree = [[[5, 1, 2], [8, -8, -9]], [[9, 4, 5], [-3, 4, 3]]]\n",
    "show_tree(tree)"
   ]
  },
  {
   "cell_type": "code",
   "execution_count": 43,
   "metadata": {},
   "outputs": [
    {
     "ename": "TypeError",
     "evalue": "'NoneType' object is not iterable",
     "traceback": [
      "\u001b[0;31m---------------------------------------------------------------------------\u001b[0m",
      "\u001b[0;31mTypeError\u001b[0m                                 Traceback (most recent call last)",
      "\u001b[0;32m<ipython-input-43-40af2f88857f>\u001b[0m in \u001b[0;36m<module>\u001b[0;34m\u001b[0m\n\u001b[1;32m     51\u001b[0m \u001b[0;34m\u001b[0m\u001b[0m\n\u001b[1;32m     52\u001b[0m \u001b[0;32mif\u001b[0m \u001b[0m__name__\u001b[0m \u001b[0;34m==\u001b[0m \u001b[0;34m\"__main__\"\u001b[0m\u001b[0;34m:\u001b[0m\u001b[0;34m\u001b[0m\u001b[0m\n\u001b[0;32m---> 53\u001b[0;31m     \u001b[0malphabeta\u001b[0m\u001b[0;34m(\u001b[0m\u001b[0;34m)\u001b[0m\u001b[0;34m\u001b[0m\u001b[0m\n\u001b[0m",
      "\u001b[0;32m<ipython-input-43-40af2f88857f>\u001b[0m in \u001b[0;36malphabeta\u001b[0;34m(in_tree, start, upper, lower)\u001b[0m\n\u001b[1;32m     40\u001b[0m     \u001b[0;32mglobal\u001b[0m \u001b[0mroot\u001b[0m\u001b[0;34m\u001b[0m\u001b[0m\n\u001b[1;32m     41\u001b[0m \u001b[0;34m\u001b[0m\u001b[0m\n\u001b[0;32m---> 42\u001b[0;31m     \u001b[0;34m(\u001b[0m\u001b[0malpha\u001b[0m\u001b[0;34m,\u001b[0m \u001b[0mbeta\u001b[0m\u001b[0;34m)\u001b[0m \u001b[0;34m=\u001b[0m \u001b[0mchildren\u001b[0m\u001b[0;34m(\u001b[0m\u001b[0mtree\u001b[0m\u001b[0;34m,\u001b[0m \u001b[0mstart\u001b[0m\u001b[0;34m,\u001b[0m \u001b[0mupper\u001b[0m\u001b[0;34m,\u001b[0m \u001b[0mlower\u001b[0m\u001b[0;34m)\u001b[0m\u001b[0;34m\u001b[0m\u001b[0m\n\u001b[0m\u001b[1;32m     43\u001b[0m \u001b[0;34m\u001b[0m\u001b[0m\n\u001b[1;32m     44\u001b[0m     \u001b[0;32mif\u001b[0m \u001b[0m__name__\u001b[0m \u001b[0;34m==\u001b[0m \u001b[0;34m\"__main__\"\u001b[0m\u001b[0;34m:\u001b[0m\u001b[0;34m\u001b[0m\u001b[0m\n",
      "\u001b[0;32m<ipython-input-43-40af2f88857f>\u001b[0m in \u001b[0;36mchildren\u001b[0;34m(branch, depth, alpha, beta)\u001b[0m\n\u001b[1;32m     11\u001b[0m     \u001b[0;32mfor\u001b[0m \u001b[0mcj\u001b[0m\u001b[0;34m,\u001b[0m \u001b[0mchild\u001b[0m \u001b[0;32min\u001b[0m \u001b[0menumerate\u001b[0m\u001b[0;34m(\u001b[0m\u001b[0mbranch\u001b[0m\u001b[0;34m)\u001b[0m\u001b[0;34m:\u001b[0m\u001b[0;34m\u001b[0m\u001b[0m\n\u001b[1;32m     12\u001b[0m         \u001b[0;32mif\u001b[0m \u001b[0mtype\u001b[0m\u001b[0;34m(\u001b[0m\u001b[0mchild\u001b[0m\u001b[0;34m)\u001b[0m \u001b[0;32mis\u001b[0m \u001b[0mlist\u001b[0m \u001b[0;32mand\u001b[0m \u001b[0mchild\u001b[0m \u001b[0;32mis\u001b[0m \u001b[0;32mnot\u001b[0m \u001b[0;32mNone\u001b[0m\u001b[0;34m:\u001b[0m\u001b[0;34m\u001b[0m\u001b[0m\n\u001b[0;32m---> 13\u001b[0;31m             \u001b[0;34m(\u001b[0m\u001b[0mnalpha\u001b[0m\u001b[0;34m,\u001b[0m \u001b[0mnbeta\u001b[0m\u001b[0;34m)\u001b[0m \u001b[0;34m=\u001b[0m \u001b[0mchildren\u001b[0m\u001b[0;34m(\u001b[0m\u001b[0mchild\u001b[0m\u001b[0;34m,\u001b[0m \u001b[0mdepth\u001b[0m \u001b[0;34m+\u001b[0m \u001b[0;36m1\u001b[0m\u001b[0;34m,\u001b[0m \u001b[0malpha\u001b[0m\u001b[0;34m,\u001b[0m \u001b[0mbeta\u001b[0m\u001b[0;34m)\u001b[0m\u001b[0;34m\u001b[0m\u001b[0m\n\u001b[0m\u001b[1;32m     14\u001b[0m             \u001b[0;32mif\u001b[0m \u001b[0mdepth\u001b[0m \u001b[0;34m%\u001b[0m \u001b[0;36m2\u001b[0m \u001b[0;34m==\u001b[0m \u001b[0;36m1\u001b[0m\u001b[0;34m:\u001b[0m\u001b[0;34m\u001b[0m\u001b[0m\n\u001b[1;32m     15\u001b[0m                 \u001b[0mbeta\u001b[0m \u001b[0;34m=\u001b[0m \u001b[0mnalpha\u001b[0m \u001b[0;32mif\u001b[0m \u001b[0mnalpha\u001b[0m \u001b[0;34m<\u001b[0m \u001b[0mbeta\u001b[0m \u001b[0;32melse\u001b[0m \u001b[0mbeta\u001b[0m\u001b[0;34m\u001b[0m\u001b[0m\n",
      "\u001b[0;32m<ipython-input-43-40af2f88857f>\u001b[0m in \u001b[0;36mchildren\u001b[0;34m(branch, depth, alpha, beta)\u001b[0m\n\u001b[1;32m     11\u001b[0m     \u001b[0;32mfor\u001b[0m \u001b[0mcj\u001b[0m\u001b[0;34m,\u001b[0m \u001b[0mchild\u001b[0m \u001b[0;32min\u001b[0m \u001b[0menumerate\u001b[0m\u001b[0;34m(\u001b[0m\u001b[0mbranch\u001b[0m\u001b[0;34m)\u001b[0m\u001b[0;34m:\u001b[0m\u001b[0;34m\u001b[0m\u001b[0m\n\u001b[1;32m     12\u001b[0m         \u001b[0;32mif\u001b[0m \u001b[0mtype\u001b[0m\u001b[0;34m(\u001b[0m\u001b[0mchild\u001b[0m\u001b[0;34m)\u001b[0m \u001b[0;32mis\u001b[0m \u001b[0mlist\u001b[0m \u001b[0;32mand\u001b[0m \u001b[0mchild\u001b[0m \u001b[0;32mis\u001b[0m \u001b[0;32mnot\u001b[0m \u001b[0;32mNone\u001b[0m\u001b[0;34m:\u001b[0m\u001b[0;34m\u001b[0m\u001b[0m\n\u001b[0;32m---> 13\u001b[0;31m             \u001b[0;34m(\u001b[0m\u001b[0mnalpha\u001b[0m\u001b[0;34m,\u001b[0m \u001b[0mnbeta\u001b[0m\u001b[0;34m)\u001b[0m \u001b[0;34m=\u001b[0m \u001b[0mchildren\u001b[0m\u001b[0;34m(\u001b[0m\u001b[0mchild\u001b[0m\u001b[0;34m,\u001b[0m \u001b[0mdepth\u001b[0m \u001b[0;34m+\u001b[0m \u001b[0;36m1\u001b[0m\u001b[0;34m,\u001b[0m \u001b[0malpha\u001b[0m\u001b[0;34m,\u001b[0m \u001b[0mbeta\u001b[0m\u001b[0;34m)\u001b[0m\u001b[0;34m\u001b[0m\u001b[0m\n\u001b[0m\u001b[1;32m     14\u001b[0m             \u001b[0;32mif\u001b[0m \u001b[0mdepth\u001b[0m \u001b[0;34m%\u001b[0m \u001b[0;36m2\u001b[0m \u001b[0;34m==\u001b[0m \u001b[0;36m1\u001b[0m\u001b[0;34m:\u001b[0m\u001b[0;34m\u001b[0m\u001b[0m\n\u001b[1;32m     15\u001b[0m                 \u001b[0mbeta\u001b[0m \u001b[0;34m=\u001b[0m \u001b[0mnalpha\u001b[0m \u001b[0;32mif\u001b[0m \u001b[0mnalpha\u001b[0m \u001b[0;34m<\u001b[0m \u001b[0mbeta\u001b[0m \u001b[0;32melse\u001b[0m \u001b[0mbeta\u001b[0m\u001b[0;34m\u001b[0m\u001b[0m\n",
      "\u001b[0;31mTypeError\u001b[0m: 'NoneType' object is not iterable"
     ],
     "output_type": "error"
    }
   ],
   "source": [
    "tree = [[[5, 1, 2], [8, -8, -9]], [[9, 4, 5], [-3, 4, 3]]]\n",
    "root = 0\n",
    "pruned = 0\n",
    "\n",
    "\n",
    "def children(branch, depth, alpha, beta):\n",
    "    global tree\n",
    "    global root\n",
    "    global pruned\n",
    "    i = 0\n",
    "    for cj, child in enumerate(branch):\n",
    "        if type(child) is list and child is not None:\n",
    "            (nalpha, nbeta) = children(child, depth + 1, alpha, beta)\n",
    "            if depth % 2 == 1:\n",
    "                beta = nalpha if nalpha < beta else beta\n",
    "            else:\n",
    "                alpha = nbeta if nbeta > alpha else alpha\n",
    "            branch[i] = alpha if depth % 2 == 0 else beta\n",
    "            i += 1\n",
    "        else:\n",
    "            if depth % 2 == 0 and alpha < child:\n",
    "                alpha = child\n",
    "            if depth % 2 == 1 and beta > child:\n",
    "                beta = child\n",
    "            if alpha >= beta:\n",
    "                pruned += 1\n",
    "                for j in range(cj+1, len(branch)):\n",
    "                    branch[j] = None\n",
    "                show_tree(tree)\n",
    "                return \n",
    "                break\n",
    "    if depth == root:\n",
    "        tree = alpha if root == 0 else beta\n",
    "    return alpha, beta\n",
    "\n",
    "\n",
    "def alphabeta(in_tree=tree, start=root, upper=-15, lower=15):\n",
    "    global tree\n",
    "    global pruned\n",
    "    global root\n",
    "\n",
    "    (alpha, beta) = children(tree, start, upper, lower)\n",
    "\n",
    "    if __name__ == \"__main__\":\n",
    "        print(\"(alpha, beta): \", alpha, beta)\n",
    "        print(\"Result: \", tree)\n",
    "        print(\"Times pruned: \", pruned)\n",
    "\n",
    "    return (alpha, beta, tree, pruned)\n",
    "\n",
    "\n",
    "if __name__ == \"__main__\":\n",
    "    alphabeta()\n"
   ]
  },
  {
   "cell_type": "code",
   "execution_count": null,
   "metadata": {},
   "outputs": [],
   "source": []
  }
 ],
 "metadata": {
  "kernelspec": {
   "display_name": "Python 3",
   "language": "python",
   "name": "python3"
  },
  "language_info": {
   "codemirror_mode": {
    "name": "ipython",
    "version": 3
   },
   "file_extension": ".py",
   "mimetype": "text/x-python",
   "name": "python",
   "nbconvert_exporter": "python",
   "pygments_lexer": "ipython3",
   "version": "3.6.6"
  }
 },
 "nbformat": 4,
 "nbformat_minor": 1
}
